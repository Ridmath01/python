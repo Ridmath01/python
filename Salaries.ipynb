{
 "cells": [
  {
   "cell_type": "markdown",
   "id": "047378c1-bd70-41f4-a1e3-a6d851e57858",
   "metadata": {},
   "source": [
    "## EMPLOYEE SALARIES ANALYSIS"
   ]
  },
  {
   "cell_type": "markdown",
   "id": "0023c789-6fe6-4abf-8449-f2a307653dba",
   "metadata": {},
   "source": [
    "Employee salaries refer to the compensation paid to individuals for their work or services rendered to an employer. Salaries are typically expressed as an annual amount, but they may be paid on a monthly, bi-weekly, or weekly basis. Compensation may include base pay, bonuses, benefits, and other perks. The salary structure varies based on factors such as job responsibilities, experience, skills, and industry standards. Employers determine salaries through negotiations, market research, and internal policies, aiming to attract and retain qualified talent while maintaining competitive and fair compensation practices.The Employee Salaries Datasets contains information about various employees, including their names, job titles, base pay, overtime pay, other pay, benefits, total pay, total pay benefits, year, notes, agency, and status."
   ]
  },
  {
   "cell_type": "markdown",
   "id": "2100142d-9985-4406-b624-d9fd94e48da3",
   "metadata": {},
   "source": [
    "# Aim:\n",
    "The aim of this analysis is to gain insights into the Employee Salaries Dataset and extract meaningful information to understand various aspects of employee salaries in San Francisco.\n",
    "\n",
    "# Objectives:\n",
    " The objectives aim to provide a comprehensive overview of the dataset, analyze salary statistics, and gain insights into the distribution of job titles and compensation among employees in San Francisco. The analysis will help in understanding patterns, trends, and key information related to employee salaries."
   ]
  },
  {
   "cell_type": "code",
   "execution_count": null,
   "id": "969ef095-7fc6-4937-aed0-5e1a86d0ed82",
   "metadata": {},
   "outputs": [],
   "source": []
  },
  {
   "cell_type": "markdown",
   "id": "f8cd9c52-928c-4c2e-8abe-b3dacc0806a7",
   "metadata": {},
   "source": [
    "To initiate the analysis process, the following essential python libraries are imported to facilitate data manipulation, exploration, and visualization.The Python libraries are numpy as np, pandas as pd, matplotlib.pyplot as plt and seaborn as sns.\n",
    "\n"
   ]
  },
  {
   "cell_type": "code",
   "execution_count": 2,
   "id": "d01877a7-5669-4541-bcc0-46741f5aef43",
   "metadata": {},
   "outputs": [],
   "source": [
    "import numpy as np\n",
    "import pandas as pd\n",
    "import matplotlib.pyplot as plt\n",
    "import seaborn as sns"
   ]
  },
  {
   "cell_type": "markdown",
   "id": "e00a2471-e470-4346-bb7d-dac38a5f4b5f",
   "metadata": {},
   "source": [
    "Continuing with the analysis, the next step involves importing the Employee Salaries Dataset. The dataset is loaded into a Pandas DataFrame named employees_df using the pd.read_csv() function. To confirm the successful import and get an initial glimpse of the data, the first few rows of the DataFrame are displayed using print(employees_df.head())"
   ]
  },
  {
   "cell_type": "code",
   "execution_count": null,
   "id": "b286393d-ed44-4f32-ab46-1f6b1360cd63",
   "metadata": {},
   "outputs": [],
   "source": [
    "employees_df = pd.read_csv(r\"C:\\Users\\USER\\Documents\\EXCEL WORK\\Salaries.csv\")\n",
    "(employees_df.head())"
   ]
  },
  {
   "cell_type": "code",
   "execution_count": 4,
   "id": "7a17eff3-cf55-4c62-97eb-ec98c184a1d9",
   "metadata": {},
   "outputs": [
    {
     "name": "stdout",
     "output_type": "stream",
     "text": [
      "(148654, 13)\n"
     ]
    }
   ],
   "source": [
    "print(employees_df.shape)"
   ]
  },
  {
   "cell_type": "code",
   "execution_count": 5,
   "id": "fc139189-1d95-4b46-b4af-16ebd90bd3ca",
   "metadata": {},
   "outputs": [
    {
     "ename": "SyntaxError",
     "evalue": "invalid syntax (Temp/ipykernel_6592/199749486.py, line 1)",
     "output_type": "error",
     "traceback": [
      "\u001b[1;36m  File \u001b[1;32m\"C:\\Users\\USER\\AppData\\Local\\Temp/ipykernel_6592/199749486.py\"\u001b[1;36m, line \u001b[1;32m1\u001b[0m\n\u001b[1;33m    The above result shows that the datasets contains 148,654 rows and 13 columns\u001b[0m\n\u001b[1;37m        ^\u001b[0m\n\u001b[1;31mSyntaxError\u001b[0m\u001b[1;31m:\u001b[0m invalid syntax\n"
     ]
    }
   ],
   "source": [
    "The above result shows that the datasets contains 148,654 rows and 13 columns"
   ]
  },
  {
   "cell_type": "markdown",
   "id": "b181f5ae-892c-4342-973b-e535645f22f7",
   "metadata": {},
   "source": [
    "To examine the statistical summary of the dataset, we employed the `describe()` function. The resulting summary statistics provide a comprehensive overview of key numerical measures such as mean, standard deviation, minimum, maximum, and quartiles. These metrics offer valuable insights into the central tendencies and variability within the dataset, laying the groundwork for a more in-depth analysis of employee salaries and related attributes."
   ]
  },
  {
   "cell_type": "code",
   "execution_count": 12,
   "id": "b61c6be2-745e-42ca-b206-d2a11a9a9071",
   "metadata": {},
   "outputs": [
    {
     "data": {
      "text/html": [
       "<div>\n",
       "<style scoped>\n",
       "    .dataframe tbody tr th:only-of-type {\n",
       "        vertical-align: middle;\n",
       "    }\n",
       "\n",
       "    .dataframe tbody tr th {\n",
       "        vertical-align: top;\n",
       "    }\n",
       "\n",
       "    .dataframe thead th {\n",
       "        text-align: right;\n",
       "    }\n",
       "</style>\n",
       "<table border=\"1\" class=\"dataframe\">\n",
       "  <thead>\n",
       "    <tr style=\"text-align: right;\">\n",
       "      <th></th>\n",
       "      <th>Id</th>\n",
       "      <th>BasePay</th>\n",
       "      <th>OvertimePay</th>\n",
       "      <th>OtherPay</th>\n",
       "      <th>Benefits</th>\n",
       "      <th>TotalPay</th>\n",
       "      <th>TotalPayBenefits</th>\n",
       "      <th>Year</th>\n",
       "      <th>Notes</th>\n",
       "      <th>Status</th>\n",
       "    </tr>\n",
       "  </thead>\n",
       "  <tbody>\n",
       "    <tr>\n",
       "      <th>count</th>\n",
       "      <td>148654.000000</td>\n",
       "      <td>148045.000000</td>\n",
       "      <td>148650.000000</td>\n",
       "      <td>148650.000000</td>\n",
       "      <td>112491.000000</td>\n",
       "      <td>148654.000000</td>\n",
       "      <td>148654.000000</td>\n",
       "      <td>148654.000000</td>\n",
       "      <td>0.0</td>\n",
       "      <td>0.0</td>\n",
       "    </tr>\n",
       "    <tr>\n",
       "      <th>mean</th>\n",
       "      <td>74327.500000</td>\n",
       "      <td>66325.448841</td>\n",
       "      <td>5066.059886</td>\n",
       "      <td>3648.767297</td>\n",
       "      <td>25007.893151</td>\n",
       "      <td>74768.321972</td>\n",
       "      <td>93692.554811</td>\n",
       "      <td>2012.522643</td>\n",
       "      <td>NaN</td>\n",
       "      <td>NaN</td>\n",
       "    </tr>\n",
       "    <tr>\n",
       "      <th>std</th>\n",
       "      <td>42912.857795</td>\n",
       "      <td>42764.635495</td>\n",
       "      <td>11454.380559</td>\n",
       "      <td>8056.601866</td>\n",
       "      <td>15402.215858</td>\n",
       "      <td>50517.005274</td>\n",
       "      <td>62793.533483</td>\n",
       "      <td>1.117538</td>\n",
       "      <td>NaN</td>\n",
       "      <td>NaN</td>\n",
       "    </tr>\n",
       "    <tr>\n",
       "      <th>min</th>\n",
       "      <td>1.000000</td>\n",
       "      <td>-166.010000</td>\n",
       "      <td>-0.010000</td>\n",
       "      <td>-7058.590000</td>\n",
       "      <td>-33.890000</td>\n",
       "      <td>-618.130000</td>\n",
       "      <td>-618.130000</td>\n",
       "      <td>2011.000000</td>\n",
       "      <td>NaN</td>\n",
       "      <td>NaN</td>\n",
       "    </tr>\n",
       "    <tr>\n",
       "      <th>25%</th>\n",
       "      <td>37164.250000</td>\n",
       "      <td>33588.200000</td>\n",
       "      <td>0.000000</td>\n",
       "      <td>0.000000</td>\n",
       "      <td>11535.395000</td>\n",
       "      <td>36168.995000</td>\n",
       "      <td>44065.650000</td>\n",
       "      <td>2012.000000</td>\n",
       "      <td>NaN</td>\n",
       "      <td>NaN</td>\n",
       "    </tr>\n",
       "    <tr>\n",
       "      <th>50%</th>\n",
       "      <td>74327.500000</td>\n",
       "      <td>65007.450000</td>\n",
       "      <td>0.000000</td>\n",
       "      <td>811.270000</td>\n",
       "      <td>28628.620000</td>\n",
       "      <td>71426.610000</td>\n",
       "      <td>92404.090000</td>\n",
       "      <td>2013.000000</td>\n",
       "      <td>NaN</td>\n",
       "      <td>NaN</td>\n",
       "    </tr>\n",
       "    <tr>\n",
       "      <th>75%</th>\n",
       "      <td>111490.750000</td>\n",
       "      <td>94691.050000</td>\n",
       "      <td>4658.175000</td>\n",
       "      <td>4236.065000</td>\n",
       "      <td>35566.855000</td>\n",
       "      <td>105839.135000</td>\n",
       "      <td>132876.450000</td>\n",
       "      <td>2014.000000</td>\n",
       "      <td>NaN</td>\n",
       "      <td>NaN</td>\n",
       "    </tr>\n",
       "    <tr>\n",
       "      <th>max</th>\n",
       "      <td>148654.000000</td>\n",
       "      <td>319275.010000</td>\n",
       "      <td>245131.880000</td>\n",
       "      <td>400184.250000</td>\n",
       "      <td>96570.660000</td>\n",
       "      <td>567595.430000</td>\n",
       "      <td>567595.430000</td>\n",
       "      <td>2014.000000</td>\n",
       "      <td>NaN</td>\n",
       "      <td>NaN</td>\n",
       "    </tr>\n",
       "  </tbody>\n",
       "</table>\n",
       "</div>"
      ],
      "text/plain": [
       "                  Id        BasePay    OvertimePay       OtherPay  \\\n",
       "count  148654.000000  148045.000000  148650.000000  148650.000000   \n",
       "mean    74327.500000   66325.448841    5066.059886    3648.767297   \n",
       "std     42912.857795   42764.635495   11454.380559    8056.601866   \n",
       "min         1.000000    -166.010000      -0.010000   -7058.590000   \n",
       "25%     37164.250000   33588.200000       0.000000       0.000000   \n",
       "50%     74327.500000   65007.450000       0.000000     811.270000   \n",
       "75%    111490.750000   94691.050000    4658.175000    4236.065000   \n",
       "max    148654.000000  319275.010000  245131.880000  400184.250000   \n",
       "\n",
       "            Benefits       TotalPay  TotalPayBenefits           Year  Notes  \\\n",
       "count  112491.000000  148654.000000     148654.000000  148654.000000    0.0   \n",
       "mean    25007.893151   74768.321972      93692.554811    2012.522643    NaN   \n",
       "std     15402.215858   50517.005274      62793.533483       1.117538    NaN   \n",
       "min       -33.890000    -618.130000       -618.130000    2011.000000    NaN   \n",
       "25%     11535.395000   36168.995000      44065.650000    2012.000000    NaN   \n",
       "50%     28628.620000   71426.610000      92404.090000    2013.000000    NaN   \n",
       "75%     35566.855000  105839.135000     132876.450000    2014.000000    NaN   \n",
       "max     96570.660000  567595.430000     567595.430000    2014.000000    NaN   \n",
       "\n",
       "       Status  \n",
       "count     0.0  \n",
       "mean      NaN  \n",
       "std       NaN  \n",
       "min       NaN  \n",
       "25%       NaN  \n",
       "50%       NaN  \n",
       "75%       NaN  \n",
       "max       NaN  "
      ]
     },
     "execution_count": 12,
     "metadata": {},
     "output_type": "execute_result"
    }
   ],
   "source": [
    "employees_df.describe()"
   ]
  },
  {
   "cell_type": "markdown",
   "id": "12767440-1134-400d-9640-89e4f7997e82",
   "metadata": {},
   "source": [
    "Concluding the initial steps of data pre-processing, we utilized the `info()` method to gain insights into the dataset's structure, including data types, non-null counts, and memory usage. Subsequently, the obtained information guided the implementation of appropriate data cleaning processes. Addressing any missing values, ensuring consistent data types, and handling anomalies are essential components of this data cleaning phase, setting the stage for a more robust and accurate analysis of the Employee Salaries Dataset."
   ]
  },
  {
   "cell_type": "code",
   "execution_count": 13,
   "id": "b604bf8f-c705-441b-97c1-c1bb08962497",
   "metadata": {},
   "outputs": [
    {
     "name": "stdout",
     "output_type": "stream",
     "text": [
      "<class 'pandas.core.frame.DataFrame'>\n",
      "RangeIndex: 148654 entries, 0 to 148653\n",
      "Data columns (total 13 columns):\n",
      " #   Column            Non-Null Count   Dtype  \n",
      "---  ------            --------------   -----  \n",
      " 0   Id                148654 non-null  int64  \n",
      " 1   EmployeeName      148654 non-null  object \n",
      " 2   JobTitle          148654 non-null  object \n",
      " 3   BasePay           148045 non-null  float64\n",
      " 4   OvertimePay       148650 non-null  float64\n",
      " 5   OtherPay          148650 non-null  float64\n",
      " 6   Benefits          112491 non-null  float64\n",
      " 7   TotalPay          148654 non-null  float64\n",
      " 8   TotalPayBenefits  148654 non-null  float64\n",
      " 9   Year              148654 non-null  int64  \n",
      " 10  Notes             0 non-null       float64\n",
      " 11  Agency            148654 non-null  object \n",
      " 12  Status            0 non-null       float64\n",
      "dtypes: float64(8), int64(2), object(3)\n",
      "memory usage: 14.7+ MB\n"
     ]
    }
   ],
   "source": [
    "employees_df.info()"
   ]
  },
  {
   "cell_type": "markdown",
   "id": "d8aeca4b-f46a-4db2-9490-a4bfa1d54305",
   "metadata": {},
   "source": [
    "The summary of the dataset obtained from the `info()` method is as follows:\n",
    "\n",
    "The Employee Salaries Dataset consists of 13 columns with identifiers ranging from 0 to 12. The non-null counts for each column reveal varying degrees of missing values, particularly in columns such as \"BasePay,\" \"OvertimePay,\" \"OtherPay,\" \"Benefits,\" \"Notes,\" and \"Status.\" The data types of the columns provide insights into the nature of the information they hold, with object types for \"EmployeeName,\" \"JobTitle,\" and \"Agency,\" and numerical types (int64 or float64) for quantitative columns.\n",
    "\n",
    "The \"Year\" column indicates the calendar years associated with the salary information. Notably, the \"Notes\" and \"Status\" columns appear to be entirely populated with missing values, given their zero non-null counts. This initial overview guides the subsequent data cleaning process, highlighting areas where attention is needed, such as handling missing values and potentially adjusting data types."
   ]
  },
  {
   "cell_type": "markdown",
   "id": "4f595b42-010e-463c-8618-c3003376c678",
   "metadata": {},
   "source": [
    "To eliminate the \"Notes\" and \"Status\" columns from the Pandas DataFrame, the following code was implemented:"
   ]
  },
  {
   "cell_type": "code",
   "execution_count": 22,
   "id": "6a2bfe33-c329-47b8-ba23-017f3b5a9563",
   "metadata": {},
   "outputs": [
    {
     "data": {
      "text/html": [
       "<div>\n",
       "<style scoped>\n",
       "    .dataframe tbody tr th:only-of-type {\n",
       "        vertical-align: middle;\n",
       "    }\n",
       "\n",
       "    .dataframe tbody tr th {\n",
       "        vertical-align: top;\n",
       "    }\n",
       "\n",
       "    .dataframe thead th {\n",
       "        text-align: right;\n",
       "    }\n",
       "</style>\n",
       "<table border=\"1\" class=\"dataframe\">\n",
       "  <thead>\n",
       "    <tr style=\"text-align: right;\">\n",
       "      <th></th>\n",
       "      <th>Id</th>\n",
       "      <th>EmployeeName</th>\n",
       "      <th>JobTitle</th>\n",
       "      <th>BasePay</th>\n",
       "      <th>OvertimePay</th>\n",
       "      <th>OtherPay</th>\n",
       "      <th>Benefits</th>\n",
       "      <th>TotalPay</th>\n",
       "      <th>TotalPayBenefits</th>\n",
       "      <th>Year</th>\n",
       "      <th>Agency</th>\n",
       "    </tr>\n",
       "  </thead>\n",
       "  <tbody>\n",
       "    <tr>\n",
       "      <th>0</th>\n",
       "      <td>1</td>\n",
       "      <td>NATHANIEL FORD</td>\n",
       "      <td>GENERAL MANAGER-METROPOLITAN TRANSIT AUTHORITY</td>\n",
       "      <td>167411.18</td>\n",
       "      <td>0.00</td>\n",
       "      <td>400184.25</td>\n",
       "      <td>NaN</td>\n",
       "      <td>567595.43</td>\n",
       "      <td>567595.43</td>\n",
       "      <td>2011</td>\n",
       "      <td>San Francisco</td>\n",
       "    </tr>\n",
       "    <tr>\n",
       "      <th>1</th>\n",
       "      <td>2</td>\n",
       "      <td>GARY JIMENEZ</td>\n",
       "      <td>CAPTAIN III (POLICE DEPARTMENT)</td>\n",
       "      <td>155966.02</td>\n",
       "      <td>245131.88</td>\n",
       "      <td>137811.38</td>\n",
       "      <td>NaN</td>\n",
       "      <td>538909.28</td>\n",
       "      <td>538909.28</td>\n",
       "      <td>2011</td>\n",
       "      <td>San Francisco</td>\n",
       "    </tr>\n",
       "    <tr>\n",
       "      <th>2</th>\n",
       "      <td>3</td>\n",
       "      <td>ALBERT PARDINI</td>\n",
       "      <td>CAPTAIN III (POLICE DEPARTMENT)</td>\n",
       "      <td>212739.13</td>\n",
       "      <td>106088.18</td>\n",
       "      <td>16452.60</td>\n",
       "      <td>NaN</td>\n",
       "      <td>335279.91</td>\n",
       "      <td>335279.91</td>\n",
       "      <td>2011</td>\n",
       "      <td>San Francisco</td>\n",
       "    </tr>\n",
       "    <tr>\n",
       "      <th>3</th>\n",
       "      <td>4</td>\n",
       "      <td>CHRISTOPHER CHONG</td>\n",
       "      <td>WIRE ROPE CABLE MAINTENANCE MECHANIC</td>\n",
       "      <td>77916.00</td>\n",
       "      <td>56120.71</td>\n",
       "      <td>198306.90</td>\n",
       "      <td>NaN</td>\n",
       "      <td>332343.61</td>\n",
       "      <td>332343.61</td>\n",
       "      <td>2011</td>\n",
       "      <td>San Francisco</td>\n",
       "    </tr>\n",
       "    <tr>\n",
       "      <th>4</th>\n",
       "      <td>5</td>\n",
       "      <td>PATRICK GARDNER</td>\n",
       "      <td>DEPUTY CHIEF OF DEPARTMENT,(FIRE DEPARTMENT)</td>\n",
       "      <td>134401.60</td>\n",
       "      <td>9737.00</td>\n",
       "      <td>182234.59</td>\n",
       "      <td>NaN</td>\n",
       "      <td>326373.19</td>\n",
       "      <td>326373.19</td>\n",
       "      <td>2011</td>\n",
       "      <td>San Francisco</td>\n",
       "    </tr>\n",
       "  </tbody>\n",
       "</table>\n",
       "</div>"
      ],
      "text/plain": [
       "   Id       EmployeeName                                        JobTitle  \\\n",
       "0   1     NATHANIEL FORD  GENERAL MANAGER-METROPOLITAN TRANSIT AUTHORITY   \n",
       "1   2       GARY JIMENEZ                 CAPTAIN III (POLICE DEPARTMENT)   \n",
       "2   3     ALBERT PARDINI                 CAPTAIN III (POLICE DEPARTMENT)   \n",
       "3   4  CHRISTOPHER CHONG            WIRE ROPE CABLE MAINTENANCE MECHANIC   \n",
       "4   5    PATRICK GARDNER    DEPUTY CHIEF OF DEPARTMENT,(FIRE DEPARTMENT)   \n",
       "\n",
       "     BasePay  OvertimePay   OtherPay  Benefits   TotalPay  TotalPayBenefits  \\\n",
       "0  167411.18         0.00  400184.25       NaN  567595.43         567595.43   \n",
       "1  155966.02    245131.88  137811.38       NaN  538909.28         538909.28   \n",
       "2  212739.13    106088.18   16452.60       NaN  335279.91         335279.91   \n",
       "3   77916.00     56120.71  198306.90       NaN  332343.61         332343.61   \n",
       "4  134401.60      9737.00  182234.59       NaN  326373.19         326373.19   \n",
       "\n",
       "   Year         Agency  \n",
       "0  2011  San Francisco  \n",
       "1  2011  San Francisco  \n",
       "2  2011  San Francisco  \n",
       "3  2011  San Francisco  \n",
       "4  2011  San Francisco  "
      ]
     },
     "execution_count": 22,
     "metadata": {},
     "output_type": "execute_result"
    }
   ],
   "source": [
    "\n",
    "columns_to_drop = ['Notes', 'Status']\n",
    "columns_to_drop = [col for col in columns_to_drop if col in employees_df.columns]\n",
    "\n",
    "employees_df = employees_df.drop(columns=columns_to_drop, errors='ignore')\n",
    "employees_df.head()"
   ]
  },
  {
   "cell_type": "markdown",
   "id": "3222ca3e-4fc5-4e87-8943-c9a9806d5329",
   "metadata": {},
   "source": [
    "The use employees_df.head() reveals the modified dataset, showcasing the DataFrame with the specified columns removed.\n",
    "In this analysis of the Employee Salaries Dataset, the following key steps were performed:\n",
    "\n",
    "Data Import and Overview:\n",
    "\n",
    "The dataset, containing information about employees, was imported into a Pandas DataFrame.\n",
    "Initial exploration using methods like head() and info() provided insights into the structure and content of the dataset.\n",
    "Data Cleaning:\n",
    "\n",
    "Unnecessary columns ('Notes' and 'Status') were dropped to streamline the dataset.\n",
    "Instances of \"Not provided\" in the 'EmployeeName' column were replaced with NaN.\n",
    "Rows with exactly 5 missing values were dropped to handle missing data effectively.\n",
    "Descriptive Analysis:\n",
    "\n",
    "The occurrence of each unique employee name was determined.\n",
    "The number of unique job titles and the total number of job titles containing the word 'captain' were found.\n",
    "Employee names from the fire department were displayed.\n",
    "Statistical Analysis:\n",
    "\n",
    "Minimum, maximum, and average base pay were calculated and reported.\n",
    "The job title and total compensation (including benefits) of \"ALBERT PARDINI\" were identified.\n",
    "The person with the highest base pay was determined and their name displayed.\n",
    "Grouped Analysis:\n",
    "\n",
    "The average base pay for all employees per job title was calculated and reported.\n",
    "The average base pay for employees with the job title 'Accountant' was determined.\n",
    "Common Job Analysis:\n",
    "\n",
    "The five most common job titles in the dataset were identified and reported.\n",
    "Conclusion:\n",
    "This analysis provided valuable insights into the Employee Salaries Dataset, ranging from basic exploratory data analysis to more detailed statistical and grouped analyses. Key findings include salary statistics, common job titles, and specific details about individuals such as \"ALBERT PARDINI\" and the person with the highest base pay. The code snippets were structured to enhance clarity and maintainability, facilitating a comprehensive understanding of the dataset"
   ]
  },
  {
   "cell_type": "code",
   "execution_count": 23,
   "id": "4ca81968-7a07-4914-afa0-88347d536de7",
   "metadata": {},
   "outputs": [
    {
     "name": "stdout",
     "output_type": "stream",
     "text": [
      "Kevin Lee                   13\n",
      "Richard Lee                 11\n",
      "Steven Lee                  11\n",
      "William Wong                11\n",
      "Stanley Lee                  9\n",
      "                            ..\n",
      "Jeffrey Skover               1\n",
      "Ken Dever                    1\n",
      "Kevin Whitfield              1\n",
      "Granville McCollough III     1\n",
      "Joe Lopez                    1\n",
      "Name: EmployeeName, Length: 110811, dtype: int64\n"
     ]
    }
   ],
   "source": [
    "\n",
    "employee_name_counts = employees_df['EmployeeName'].value_counts()\n",
    "print(employee_name_counts)\n"
   ]
  },
  {
   "cell_type": "markdown",
   "id": "8588e3e9-d934-4252-aff3-138425489a99",
   "metadata": {},
   "source": [
    "The output above represents the occurrence of employee names in the Employee Salaries Dataset. Each line displays an employee's name followed by the count of occurrences.This information provides insights into the distribution of employee names, highlighting 'kevin'  with higher occurrences in the dataset."
   ]
  },
  {
   "cell_type": "code",
   "execution_count": 39,
   "id": "12077926-0952-4459-979b-d0895d64acc7",
   "metadata": {},
   "outputs": [
    {
     "name": "stdout",
     "output_type": "stream",
     "text": [
      "The Number of Unique Job Titles is : 2159\n"
     ]
    }
   ],
   "source": [
    "unique_job_titles_count = employees_df['JobTitle'].nunique()\n",
    "print(\"The Number of Unique Job Titles is :\", unique_job_titles_count)"
   ]
  },
  {
   "cell_type": "markdown",
   "id": "f83256c6-8146-4a97-b1cb-0665aee5380d",
   "metadata": {},
   "source": [
    "To find the total number of job titles that contain the word \"captain,\",the str.contains() method along with sum(). was used and the result is displayed below."
   ]
  },
  {
   "cell_type": "code",
   "execution_count": 40,
   "id": "ec5e1440-251e-4143-9206-5a6bb3a5abf2",
   "metadata": {},
   "outputs": [
    {
     "name": "stdout",
     "output_type": "stream",
     "text": [
      " The total Number of Job Titles containing 'captain' is: 552\n"
     ]
    }
   ],
   "source": [
    "captain_job_titles_count = employees_df['JobTitle'].str.contains('captain', case=False).sum()\n",
    "print(\" The total Number of Job Titles containing 'captain' is:\", captain_job_titles_count)\n"
   ]
  },
  {
   "cell_type": "code",
   "execution_count": 41,
   "id": "07c6f4e9-5918-47c8-924a-af3007f9bf20",
   "metadata": {},
   "outputs": [
    {
     "name": "stdout",
     "output_type": "stream",
     "text": [
      "Employee Names from Fire Department are:\n",
      "['PATRICK GARDNER', 'ALSON LEE', 'MICHAEL MORRIS', 'JOANNE HAYES-WHITE', 'ARTHUR KENNEY', 'DAVID FRANKLIN', 'MARTY ROSS', 'VICTOR WYRSCH', 'RAYMOND GUZMAN', 'MONICA FIELDS', 'JOSE VELO', 'BRENDAN WARD', 'MICHAEL THOMPSON', 'THOMAS ABBOTT', 'THOMAS SIRAGUSA', 'BRYAN RUBENSTEIN', 'KEN YEE', 'KIRK RICHARDSON', 'KENNETH SMITH', 'CHARLES CRANE', 'ROBERT POSTEL', 'RICHARD BUSALACCHI', 'KEVIN BURKE', 'EDUARDO GONZALEZ', 'ROBERT WINSLOW', 'LORRIE KALOS', 'MICHAEL BRYANT', 'MARK GONZALES', 'REX HALE', 'KEVIN SMITH', 'KEVIN TAYLOR', 'ERIKA HOO', 'SAMSON LAI', 'KHAIRUL ALI', 'JOHN HICKEY', 'EDWARD CHU', 'ZACHARY PUMPHREY', 'MARK CASTAGNOLA', 'LUIS IBARRA-RIVERA', 'MICHAEL KEARNEY', 'MATTHEW MCNAUGHTON', 'GEORGE LYSENKO', 'ALBERTO PEDRUCO', 'DWAYNE CURRY', 'DENNIS SUTTER', 'ROBERT SERRANO', 'JAMES VANNUCCHI', 'CANTREZ TRIPLETT', 'RYAN KENNEDY', 'JOHN ROCCO', 'EDMUND VAIL', 'ANDREW SAITZ', 'BERGLIOTH MATHEWS', 'PABLO SIGUENZA', 'DANIEL YONTS', 'DAVID THOMPSON', 'JAMES BLAKE', 'RYAN CREAN', 'RUDY CASTELLANOS', 'MICHAEL GONZALES', 'ROBERT LOPEZ', 'JOHN MURPHY', 'KENNETH CORDERO', 'JIM HALL III', 'MARK JOHNSON', 'BRENDAN MCGORRIN', 'WILLIAM MCFARLAND', 'RAEMONA WILLIAMS', 'JEFFREY BARDEN', 'MATTHEW CANNON', 'RICHARD UNTALAN', \"DENNIS O'NEILL\", 'FLOYD ROLLINS', 'THOMAS KOHMANN', 'RAUL FRANCISCO', 'ALAN REYNAUD', 'DENISE NEWMAN', 'JOHN CREMEN', 'FRANK KOSTA', 'FRANK HSIEH', 'MATTHEW HUTCHINSON', 'DAVID BROWN', 'VINCENT NOLAN', 'CHERISH MURDOCK', 'LARS ASPELIN', 'JORGE PLATA', 'ANESTO ESTRELLA', 'KENNETH HUPKE', 'RONALD LEWIN', 'JOSEPH SCHIEBOLD', 'CHRISTINE EMMONS', 'DONALD GOGGIN', 'ANTHONY BENDIK', 'NORMAN CABA', 'SEAN MCKINNEY', 'ERNEST CARRILLO', 'MATTHEW SCHWARTZ', 'ALEXANDER DOUGLAS JR', 'DUSTIN WINN', 'ERIC LEAL', 'DENNIS SULLIVAN', 'PATRICK RABBITT', 'JOSEPH BARBERO', 'ANNE TAM', 'CHRISTOPHER MADSEN', 'JEANINE NICHOLSON', 'JAMES DRAPER', 'TERRY SMERDEL', 'CHARLES MC COY', 'RANDALL HIRO', 'LLOYD GOLDBERG', 'AISHA KRIEGER', 'CHASE WILSON', 'TYSON YEE', 'ALLEN WONG', 'BRIAN WALSH', \"PAUL O'KANE\", 'PAUL MCDONAGH', 'JANEEN PIROSKO', 'ROBERT ARZAVE', 'RUBEN MONTERO', 'DAVID MURRAY', 'KAREN HEALD', 'GERALD SCULLION', 'JENNIFER MATHEWS', 'DARIUS LUTTROPP', 'NEAL CAVELLINI', 'JIRO YAMAMOTO', 'JOEL SATO', 'KYLE MERKINS', 'JEFFREY WONG', 'DOMINIC OTTOBONI', 'ANGELA ROMERO', 'JOHN GRANT', 'DAVID RITTER', 'WALTER VILLAVICENCIO', 'KEVIN PARDINI', 'MARC KASPER', 'JOE CHAN', 'CRISTEO REYES', 'MICHAEL MALONEY', 'DAVID SMILEY', 'ETHAN JACKSON', 'MICHAEL CHARLTON', \"PATRICK D'ARCY\", 'LAWRENCE CONRAD', 'MICHAEL BARRY', 'STEPHEN CASSIDY', 'ROBERT KISHI', 'TIMOTHY FARMER', 'BRICE PEOPLES', 'DAWN DEWITT', 'HEATHER PIPER', 'MARC EVANS', 'AARON STEVENSON', 'EUGENE ADAMS', 'CATHERINE EMMONS-SAMSON', 'BRENT STUCKERT', 'KENNETH JONES', 'MICHAEL DUNCAN', 'MATTHEW LEE', 'ANTHONY RIVERA', 'ANSON WU', 'HERMAN WOO', 'THERESA WOLOWIC', 'PETER GROSS', 'JAMES REIDY', 'THERESA KWAN', 'ANTHONY SMERDEL', 'RICKY YEE', 'ERICA ARTESEROS', 'ROBERT TURNQUIST', 'SEAN MULLANE', 'WAYNE WONG', 'MICHAEL FUCCIOLO', 'KATHY AUSTIN', 'BROCK WELLS', 'KIMBERLY MC KEON', 'RAMON SERRANO', 'GREGORY BLATMAN', 'PATRICK SULLIVAN', 'SEAN JOHNSTON', 'KEVIN MC KEON', 'THOMAS OERTLI', 'CHRISTOPHER BENZ', 'JUSTIN BROWN', 'CYNTHIA RICKERT', 'CHADWICK ERTOLA', 'CECILIA JIANG', 'JOHN CHUNG', 'JOHN LOPES', 'ROBERT NEUNEKER', 'DANIEL GRIFFIN', 'SHIRLEY SZELA', 'KAREN KERR', 'STEPHEN MC PARTLAN', 'ROBERT MCDONALD', 'JAMES APP', 'ROBERT ZLATUNICH', 'FREDERICK PUTT', 'SHANE FRANCISCO', 'ALAN WONG', 'CLIFTON MERRILL', 'KENNETH LINNEY', 'ANTHONY GARIBALDI', 'MARK HARDEMAN', 'DAT TRUONG', 'DWAYNE NEWTON', 'ALISON YEE', 'LEONEL TINGIN', 'RONALD VANPOOL', 'LESLIE WONG', 'HELEN KIEFFER', 'ROBERT CAPPA', 'SETH RUBENSTEIN', 'PATRICIA LUI', 'PATRICK MARTINEZ', 'AUDRY LEE', 'VINCENT PEREZ', 'JENSEN RHODES', 'AARON STEVENSON', 'JAMES BARDEN', 'Joanne Hayes-White', 'Joanne M Hayes-White', 'Robert E Evans', 'Joanne M Hayes-White']\n"
     ]
    }
   ],
   "source": [
    "fire_department_employees = employees_df[employees_df['JobTitle'].str.lower().str.contains('fire department')]\n",
    "print(\"Employee Names from Fire Department are:\")\n",
    "print(fire_department_employees['EmployeeName'].tolist())"
   ]
  },
  {
   "cell_type": "code",
   "execution_count": 42,
   "id": "a225ec1d-52bf-445f-840b-50299b6f2f84",
   "metadata": {},
   "outputs": [
    {
     "name": "stdout",
     "output_type": "stream",
     "text": [
      "The minimum Base Pay is  -166.01\n",
      "The maximum Base Pay is 319275.01\n",
      "The average Base Pay is 66325.44884050643\n"
     ]
    }
   ],
   "source": [
    "min_basepay = employees_df['BasePay'].min()\n",
    "max_basepay = employees_df['BasePay'].max()\n",
    "avg_basepay = employees_df['BasePay'].mean()\n",
    "print(\"The minimum Base Pay is \", min_basepay)\n",
    "print(\"The maximum Base Pay is\", max_basepay)\n",
    "print(\"The average Base Pay is\", avg_basepay)\n"
   ]
  },
  {
   "cell_type": "markdown",
   "id": "c3374ac3-9931-41ce-8031-51090d334055",
   "metadata": {},
   "source": [
    "To replace \"Not provided\" in the 'EmployeeName' column with NaN (Not a Number), we used the replace() method as described in the code below:"
   ]
  },
  {
   "cell_type": "code",
   "execution_count": 43,
   "id": "2362c573-9ef5-4d2e-8b0d-cb7f557271da",
   "metadata": {},
   "outputs": [
    {
     "data": {
      "text/html": [
       "<div>\n",
       "<style scoped>\n",
       "    .dataframe tbody tr th:only-of-type {\n",
       "        vertical-align: middle;\n",
       "    }\n",
       "\n",
       "    .dataframe tbody tr th {\n",
       "        vertical-align: top;\n",
       "    }\n",
       "\n",
       "    .dataframe thead th {\n",
       "        text-align: right;\n",
       "    }\n",
       "</style>\n",
       "<table border=\"1\" class=\"dataframe\">\n",
       "  <thead>\n",
       "    <tr style=\"text-align: right;\">\n",
       "      <th></th>\n",
       "      <th>Id</th>\n",
       "      <th>EmployeeName</th>\n",
       "      <th>JobTitle</th>\n",
       "      <th>BasePay</th>\n",
       "      <th>OvertimePay</th>\n",
       "      <th>OtherPay</th>\n",
       "      <th>Benefits</th>\n",
       "      <th>TotalPay</th>\n",
       "      <th>TotalPayBenefits</th>\n",
       "      <th>Year</th>\n",
       "      <th>Agency</th>\n",
       "    </tr>\n",
       "  </thead>\n",
       "  <tbody>\n",
       "    <tr>\n",
       "      <th>0</th>\n",
       "      <td>1</td>\n",
       "      <td>NATHANIEL FORD</td>\n",
       "      <td>GENERAL MANAGER-METROPOLITAN TRANSIT AUTHORITY</td>\n",
       "      <td>167411.18</td>\n",
       "      <td>0.00</td>\n",
       "      <td>400184.25</td>\n",
       "      <td>NaN</td>\n",
       "      <td>567595.43</td>\n",
       "      <td>567595.43</td>\n",
       "      <td>2011</td>\n",
       "      <td>San Francisco</td>\n",
       "    </tr>\n",
       "    <tr>\n",
       "      <th>1</th>\n",
       "      <td>2</td>\n",
       "      <td>GARY JIMENEZ</td>\n",
       "      <td>CAPTAIN III (POLICE DEPARTMENT)</td>\n",
       "      <td>155966.02</td>\n",
       "      <td>245131.88</td>\n",
       "      <td>137811.38</td>\n",
       "      <td>NaN</td>\n",
       "      <td>538909.28</td>\n",
       "      <td>538909.28</td>\n",
       "      <td>2011</td>\n",
       "      <td>San Francisco</td>\n",
       "    </tr>\n",
       "    <tr>\n",
       "      <th>2</th>\n",
       "      <td>3</td>\n",
       "      <td>ALBERT PARDINI</td>\n",
       "      <td>CAPTAIN III (POLICE DEPARTMENT)</td>\n",
       "      <td>212739.13</td>\n",
       "      <td>106088.18</td>\n",
       "      <td>16452.60</td>\n",
       "      <td>NaN</td>\n",
       "      <td>335279.91</td>\n",
       "      <td>335279.91</td>\n",
       "      <td>2011</td>\n",
       "      <td>San Francisco</td>\n",
       "    </tr>\n",
       "    <tr>\n",
       "      <th>3</th>\n",
       "      <td>4</td>\n",
       "      <td>CHRISTOPHER CHONG</td>\n",
       "      <td>WIRE ROPE CABLE MAINTENANCE MECHANIC</td>\n",
       "      <td>77916.00</td>\n",
       "      <td>56120.71</td>\n",
       "      <td>198306.90</td>\n",
       "      <td>NaN</td>\n",
       "      <td>332343.61</td>\n",
       "      <td>332343.61</td>\n",
       "      <td>2011</td>\n",
       "      <td>San Francisco</td>\n",
       "    </tr>\n",
       "    <tr>\n",
       "      <th>4</th>\n",
       "      <td>5</td>\n",
       "      <td>PATRICK GARDNER</td>\n",
       "      <td>DEPUTY CHIEF OF DEPARTMENT,(FIRE DEPARTMENT)</td>\n",
       "      <td>134401.60</td>\n",
       "      <td>9737.00</td>\n",
       "      <td>182234.59</td>\n",
       "      <td>NaN</td>\n",
       "      <td>326373.19</td>\n",
       "      <td>326373.19</td>\n",
       "      <td>2011</td>\n",
       "      <td>San Francisco</td>\n",
       "    </tr>\n",
       "  </tbody>\n",
       "</table>\n",
       "</div>"
      ],
      "text/plain": [
       "   Id       EmployeeName                                        JobTitle  \\\n",
       "0   1     NATHANIEL FORD  GENERAL MANAGER-METROPOLITAN TRANSIT AUTHORITY   \n",
       "1   2       GARY JIMENEZ                 CAPTAIN III (POLICE DEPARTMENT)   \n",
       "2   3     ALBERT PARDINI                 CAPTAIN III (POLICE DEPARTMENT)   \n",
       "3   4  CHRISTOPHER CHONG            WIRE ROPE CABLE MAINTENANCE MECHANIC   \n",
       "4   5    PATRICK GARDNER    DEPUTY CHIEF OF DEPARTMENT,(FIRE DEPARTMENT)   \n",
       "\n",
       "     BasePay  OvertimePay   OtherPay  Benefits   TotalPay  TotalPayBenefits  \\\n",
       "0  167411.18         0.00  400184.25       NaN  567595.43         567595.43   \n",
       "1  155966.02    245131.88  137811.38       NaN  538909.28         538909.28   \n",
       "2  212739.13    106088.18   16452.60       NaN  335279.91         335279.91   \n",
       "3   77916.00     56120.71  198306.90       NaN  332343.61         332343.61   \n",
       "4  134401.60      9737.00  182234.59       NaN  326373.19         326373.19   \n",
       "\n",
       "   Year         Agency  \n",
       "0  2011  San Francisco  \n",
       "1  2011  San Francisco  \n",
       "2  2011  San Francisco  \n",
       "3  2011  San Francisco  \n",
       "4  2011  San Francisco  "
      ]
     },
     "execution_count": 43,
     "metadata": {},
     "output_type": "execute_result"
    }
   ],
   "source": [
    "employees_df['EmployeeName'].replace(\"Not provided\", np.nan, inplace=True)\n",
    "(employees_df.head())"
   ]
  },
  {
   "cell_type": "markdown",
   "id": "d021869a-db42-4862-8f65-f177e677efc5",
   "metadata": {},
   "source": [
    "This replaces occurrences of \"Not provided\" with NaN in the 'EmployeeName' column using the replace() method. The inplace=True parameter ensures that the changes are applied directly to the DataFrame."
   ]
  },
  {
   "cell_type": "markdown",
   "id": "73f0bedc-e595-469e-a397-cb913a7c0904",
   "metadata": {},
   "source": [
    "To drop rows that have exactly 5 missing values in the dataset, the dropna() method with the thresh parameter was applied"
   ]
  },
  {
   "cell_type": "code",
   "execution_count": 44,
   "id": "b37e2613-342a-42a2-9e6b-18da2257accb",
   "metadata": {},
   "outputs": [
    {
     "data": {
      "text/html": [
       "<div>\n",
       "<style scoped>\n",
       "    .dataframe tbody tr th:only-of-type {\n",
       "        vertical-align: middle;\n",
       "    }\n",
       "\n",
       "    .dataframe tbody tr th {\n",
       "        vertical-align: top;\n",
       "    }\n",
       "\n",
       "    .dataframe thead th {\n",
       "        text-align: right;\n",
       "    }\n",
       "</style>\n",
       "<table border=\"1\" class=\"dataframe\">\n",
       "  <thead>\n",
       "    <tr style=\"text-align: right;\">\n",
       "      <th></th>\n",
       "      <th>Id</th>\n",
       "      <th>EmployeeName</th>\n",
       "      <th>JobTitle</th>\n",
       "      <th>BasePay</th>\n",
       "      <th>OvertimePay</th>\n",
       "      <th>OtherPay</th>\n",
       "      <th>Benefits</th>\n",
       "      <th>TotalPay</th>\n",
       "      <th>TotalPayBenefits</th>\n",
       "      <th>Year</th>\n",
       "      <th>Agency</th>\n",
       "    </tr>\n",
       "  </thead>\n",
       "  <tbody>\n",
       "    <tr>\n",
       "      <th>0</th>\n",
       "      <td>1</td>\n",
       "      <td>NATHANIEL FORD</td>\n",
       "      <td>GENERAL MANAGER-METROPOLITAN TRANSIT AUTHORITY</td>\n",
       "      <td>167411.18</td>\n",
       "      <td>0.00</td>\n",
       "      <td>400184.25</td>\n",
       "      <td>NaN</td>\n",
       "      <td>567595.43</td>\n",
       "      <td>567595.43</td>\n",
       "      <td>2011</td>\n",
       "      <td>San Francisco</td>\n",
       "    </tr>\n",
       "    <tr>\n",
       "      <th>1</th>\n",
       "      <td>2</td>\n",
       "      <td>GARY JIMENEZ</td>\n",
       "      <td>CAPTAIN III (POLICE DEPARTMENT)</td>\n",
       "      <td>155966.02</td>\n",
       "      <td>245131.88</td>\n",
       "      <td>137811.38</td>\n",
       "      <td>NaN</td>\n",
       "      <td>538909.28</td>\n",
       "      <td>538909.28</td>\n",
       "      <td>2011</td>\n",
       "      <td>San Francisco</td>\n",
       "    </tr>\n",
       "    <tr>\n",
       "      <th>2</th>\n",
       "      <td>3</td>\n",
       "      <td>ALBERT PARDINI</td>\n",
       "      <td>CAPTAIN III (POLICE DEPARTMENT)</td>\n",
       "      <td>212739.13</td>\n",
       "      <td>106088.18</td>\n",
       "      <td>16452.60</td>\n",
       "      <td>NaN</td>\n",
       "      <td>335279.91</td>\n",
       "      <td>335279.91</td>\n",
       "      <td>2011</td>\n",
       "      <td>San Francisco</td>\n",
       "    </tr>\n",
       "    <tr>\n",
       "      <th>3</th>\n",
       "      <td>4</td>\n",
       "      <td>CHRISTOPHER CHONG</td>\n",
       "      <td>WIRE ROPE CABLE MAINTENANCE MECHANIC</td>\n",
       "      <td>77916.00</td>\n",
       "      <td>56120.71</td>\n",
       "      <td>198306.90</td>\n",
       "      <td>NaN</td>\n",
       "      <td>332343.61</td>\n",
       "      <td>332343.61</td>\n",
       "      <td>2011</td>\n",
       "      <td>San Francisco</td>\n",
       "    </tr>\n",
       "    <tr>\n",
       "      <th>4</th>\n",
       "      <td>5</td>\n",
       "      <td>PATRICK GARDNER</td>\n",
       "      <td>DEPUTY CHIEF OF DEPARTMENT,(FIRE DEPARTMENT)</td>\n",
       "      <td>134401.60</td>\n",
       "      <td>9737.00</td>\n",
       "      <td>182234.59</td>\n",
       "      <td>NaN</td>\n",
       "      <td>326373.19</td>\n",
       "      <td>326373.19</td>\n",
       "      <td>2011</td>\n",
       "      <td>San Francisco</td>\n",
       "    </tr>\n",
       "  </tbody>\n",
       "</table>\n",
       "</div>"
      ],
      "text/plain": [
       "   Id       EmployeeName                                        JobTitle  \\\n",
       "0   1     NATHANIEL FORD  GENERAL MANAGER-METROPOLITAN TRANSIT AUTHORITY   \n",
       "1   2       GARY JIMENEZ                 CAPTAIN III (POLICE DEPARTMENT)   \n",
       "2   3     ALBERT PARDINI                 CAPTAIN III (POLICE DEPARTMENT)   \n",
       "3   4  CHRISTOPHER CHONG            WIRE ROPE CABLE MAINTENANCE MECHANIC   \n",
       "4   5    PATRICK GARDNER    DEPUTY CHIEF OF DEPARTMENT,(FIRE DEPARTMENT)   \n",
       "\n",
       "     BasePay  OvertimePay   OtherPay  Benefits   TotalPay  TotalPayBenefits  \\\n",
       "0  167411.18         0.00  400184.25       NaN  567595.43         567595.43   \n",
       "1  155966.02    245131.88  137811.38       NaN  538909.28         538909.28   \n",
       "2  212739.13    106088.18   16452.60       NaN  335279.91         335279.91   \n",
       "3   77916.00     56120.71  198306.90       NaN  332343.61         332343.61   \n",
       "4  134401.60      9737.00  182234.59       NaN  326373.19         326373.19   \n",
       "\n",
       "   Year         Agency  \n",
       "0  2011  San Francisco  \n",
       "1  2011  San Francisco  \n",
       "2  2011  San Francisco  \n",
       "3  2011  San Francisco  \n",
       "4  2011  San Francisco  "
      ]
     },
     "execution_count": 44,
     "metadata": {},
     "output_type": "execute_result"
    }
   ],
   "source": [
    "employees_df.dropna(thresh=len(employees_df.columns) - 5, inplace=True)\n",
    "employees_df.head()"
   ]
  },
  {
   "cell_type": "markdown",
   "id": "5aaca7db-3a2c-4348-8182-0aeb2a7a2224",
   "metadata": {},
   "source": [
    "To determine the job title of \"ALBERT PARDINI\" and ascertain his total compensation, including benefits, the following code was employed and is presented below."
   ]
  },
  {
   "cell_type": "code",
   "execution_count": 45,
   "id": "0de80b7e-1c5f-434c-987d-a8a0f0afffbf",
   "metadata": {},
   "outputs": [
    {
     "name": "stdout",
     "output_type": "stream",
     "text": [
      " THE Job Title of ALBERT PARDINI IS CAPTAIN III (POLICE DEPARTMENT)\n",
      " And his total Compensation  (including benefits) is 335279.91\n"
     ]
    }
   ],
   "source": [
    "albert_pardini_info = employees_df[employees_df['EmployeeName'] == 'ALBERT PARDINI']\n",
    "print(\" THE Job Title of ALBERT PARDINI IS\", albert_pardini_info['JobTitle'].values[0])\n",
    "print(\" And his total Compensation  (including benefits) is\", albert_pardini_info['TotalPayBenefits'].values[0])"
   ]
  },
  {
   "cell_type": "markdown",
   "id": "cc45586c-a429-44b0-9945-0aa7665cdcf7",
   "metadata": {},
   "source": [
    "The following Python code was employed to pinpoint the individual with the highest base pay in the dataset."
   ]
  },
  {
   "cell_type": "code",
   "execution_count": 47,
   "id": "e8842cf1-9b7c-4916-b0df-ba8ac6e74e9a",
   "metadata": {},
   "outputs": [
    {
     "name": "stdout",
     "output_type": "stream",
     "text": [
      "The name of the person with the highest base pay is Gregory P Suhr\n"
     ]
    }
   ],
   "source": [
    "highest_basepay_person = employees_df.loc[employees_df['BasePay'].idxmax()]['EmployeeName']\n",
    "print(\"The name of the person with the highest base pay is\", highest_basepay_person)"
   ]
  },
  {
   "cell_type": "code",
   "execution_count": 49,
   "id": "26043b07-c1b0-4a39-ab93-532974815477",
   "metadata": {},
   "outputs": [
    {
     "name": "stdout",
     "output_type": "stream",
     "text": [
      " The Average Base Pay per Job Title are \n",
      "JobTitle\n",
      "ACCOUNT CLERK                                     43300.806506\n",
      "ACCOUNTANT                                        46643.172000\n",
      "ACCOUNTANT INTERN                                 28732.663958\n",
      "ACPO,JuvP, Juv Prob (SFERS)                       62290.780000\n",
      "ACUPUNCTURIST                                     66374.400000\n",
      "                                                      ...     \n",
      "X-RAY LABORATORY AIDE                             47664.773077\n",
      "X-Ray Laboratory Aide                             46086.387100\n",
      "YOUTH COMMISSION ADVISOR, BOARD OF SUPERVISORS    52609.910000\n",
      "Youth Comm Advisor                                39077.957500\n",
      "ZOO CURATOR                                       43148.000000\n",
      "Name: BasePay, Length: 2159, dtype: float64\n"
     ]
    }
   ],
   "source": [
    "average_basepay_per_job = employees_df.groupby('JobTitle')['BasePay'].mean()\n",
    "print(\" The Average Base Pay per Job Title are \")\n",
    "print(average_basepay_per_job)\n"
   ]
  },
  {
   "cell_type": "code",
   "execution_count": 51,
   "id": "83a264c1-fead-40e8-ad71-0d211ed2158f",
   "metadata": {},
   "outputs": [
    {
     "name": "stdout",
     "output_type": "stream",
     "text": [
      " The Average Base Pay for Employees with Job Title 'Accountant' is  nan\n"
     ]
    }
   ],
   "source": [
    "average_basepay_accountant = employees_df[employees_df['JobTitle'] == 'Accountant']['BasePay'].mean()\n",
    "print(\" The Average Base Pay for Employees with Job Title 'Accountant' is \", average_basepay_accountant)"
   ]
  },
  {
   "cell_type": "code",
   "execution_count": 53,
   "id": "e853a0d3-343b-47e8-ac20-6aef89a6baa0",
   "metadata": {},
   "outputs": [
    {
     "name": "stdout",
     "output_type": "stream",
     "text": [
      " The top five Most Common Job Title are \n",
      "Transit Operator                7036\n",
      "Special Nurse                   4389\n",
      "Registered Nurse                3736\n",
      "Public Svc Aide-Public Works    2518\n",
      "Police Officer 3                2421\n",
      "Name: JobTitle, dtype: int64\n"
     ]
    }
   ],
   "source": [
    "top_five_jobs = employees_df['JobTitle'].value_counts().head(5)\n",
    "print(\" The top five Most Common Job Title are \")\n",
    "print(top_five_jobs)"
   ]
  },
  {
   "cell_type": "markdown",
   "id": "a2908020-fc22-4aa9-81ba-fed9290f738b",
   "metadata": {},
   "source": [
    "\n",
    "In this analysis of the Employee Salaries Dataset, the following key steps were performed:\n",
    "The dataset, containing information about employees, was imported into a Pandas DataFrame and  Initial exploration using methods like head() and info() provided insights into the structure and content of the dataset. Unnecessary columns ('Notes' and 'Status') were dropped to streamline the dataset.\n",
    "Instances of \"Not provided\" in the 'EmployeeName' column were replaced with NaN. Rows with exactly 5 missing values were also dropped to handle missing data effectively.\n",
    "# Conclusion:\n",
    "This analysis provided valuable insights into the Employee Salaries Dataset, ranging from basic exploratory data analysis to more detailed statistical and grouped analyses. Key findings include salary statistics, common job titles, and specific details about individuals such as \"ALBERT PARDINI\" and the person with the highest base pay. The code snippets were structured to enhance clarity and maintainability, facilitating a comprehensive understanding of the dataset"
   ]
  },
  {
   "cell_type": "code",
   "execution_count": null,
   "id": "a9015fc6-bde4-40ef-b836-940df4e3e9c1",
   "metadata": {},
   "outputs": [],
   "source": [
    "# Sample job titles and their frequencies\n",
    "job_titles = ['Software Engineer', 'Data Scientist', 'Product Manager', 'UX Designer', 'Marketing Specialist']\n",
    "job_counts = [30, 20, 15, 10, 25]\n",
    "\n",
    "# Plotting the bar chart\n",
    "plt.bar(job_titles, job_counts, color='skyblue')\n",
    "plt.xlabel('Job Titles')\n",
    "plt.ylabel('Number of Positions')\n",
    "plt.title('Job Title Visualization')\n",
    "plt.xticks(rotation=45, ha='right')  # Rotate x-axis labels for better readability\n",
    "\n",
    "# Display the plot\n",
    "plt.tight_layout()\n",
    "plt.show()"
   ]
  },
  {
   "cell_type": "code",
   "execution_count": null,
   "id": "7efd5da6-24e4-4952-a365-86abbdb3103d",
   "metadata": {},
   "outputs": [],
   "source": []
  }
 ],
 "metadata": {
  "kernelspec": {
   "display_name": "Python 3 (ipykernel)",
   "language": "python",
   "name": "python3"
  },
  "language_info": {
   "codemirror_mode": {
    "name": "ipython",
    "version": 3
   },
   "file_extension": ".py",
   "mimetype": "text/x-python",
   "name": "python",
   "nbconvert_exporter": "python",
   "pygments_lexer": "ipython3",
   "version": "3.9.7"
  }
 },
 "nbformat": 4,
 "nbformat_minor": 5
}
